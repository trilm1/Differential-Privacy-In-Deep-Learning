{
 "cells": [
  {
   "cell_type": "markdown",
   "metadata": {},
   "source": [
    "**<center>BỘ GIÁO DỤC VÀ ĐÀO TẠO</center>**\n",
    "**<center>TRƯỜNG ĐẠI HỌC SƯ PHẠM KỸ THUẬT TP.HỒ CHÍ MINH</center>**\n",
    "**<center>KHOA CÔNG NGHỆ THÔNG TIN</center>**\n",
    "**<center>BÁO CÁO ĐỒ ÁN</center>**\n",
    "**<center>MÔN HỌC : KHOÁ LUẬN TỐT NGHIỆP</center>**\n",
    "**<center>TÊN ĐỀ TÀI: DIFFERENTIAL PRIVACY IN DEEP LEARNING</center>**\n",
    "**<center>GVHD: PGS.TS Hoàng Văn Dũng</center>**\n",
    "**<center>GVPB: ThS Lê Thị Minh Châu</center>**"
   ]
  },
  {
   "cell_type": "markdown",
   "metadata": {},
   "source": [
    "**Sinh viên thực hiện**<br>\n",
    "- Huỳnh Nguyễn Như Nguyên - 20133019<br>\n",
    "- Lê Minh Trí - 20133100<br>"
   ]
  },
  {
   "cell_type": "markdown",
   "metadata": {},
   "source": [
    "### Giới thiệu về notebook\n",
    "Notebook này mô tả về giả định quá trình tấn công suy luận thành viên dựa trên nguyên lý tấn công hộp đen (black-box) vào mô hình mục tiêu khi không có sự bảo vệ của Differential Privacy.\n"
   ]
  },
  {
   "cell_type": "markdown",
   "metadata": {},
   "source": [
    "#### 1. Tải và tiền xử lý dữ liệu"
   ]
  },
  {
   "cell_type": "code",
   "execution_count": 1,
   "metadata": {},
   "outputs": [],
   "source": [
    "import os\n",
    "from torchvision import datasets, transforms\n",
    "from torch.utils.data import DataLoader, Dataset,  random_split\n",
    "from PIL import Image\n",
    "\n",
    "class CustomDataset(Dataset):\n",
    "    def __init__(self, fake_dir, real_dir, transform=None):\n",
    "        self.fake_dir = fake_dir\n",
    "        self.real_dir = real_dir\n",
    "        self.transform = transform\n",
    "\n",
    "        self.fake_images = [(os.path.join(fake_dir, img), 1) for img in os.listdir(fake_dir) if img.endswith(('.png', '.jpg', '.jpeg'))]\n",
    "        self.real_images = [(os.path.join(real_dir, img), 0) for img in os.listdir(real_dir) if img.endswith(('.png', '.jpg', '.jpeg'))]\n",
    "\n",
    "        self.all_images = self.fake_images + self.real_images\n",
    "\n",
    "    def __len__(self):\n",
    "        return len(self.all_images)\n",
    "\n",
    "    def __getitem__(self, idx):\n",
    "        img_path, label = self.all_images[idx]\n",
    "        image = Image.open(img_path).convert(\"RGB\")\n",
    "\n",
    "        if self.transform:\n",
    "            image = self.transform(image)\n",
    "\n",
    "        return image, label\n",
    "\n",
    "# Đường dẫn tới thư mục chứa ảnh\n",
    "fake_dir = './data/fake'\n",
    "real_dir = './data/real'\n",
    "transform = transforms.Compose([\n",
    "    transforms.Resize((256, 256)),\n",
    "    transforms.RandomRotation(degrees=30),\n",
    "    transforms.RandomHorizontalFlip(),\n",
    "    transforms.RandomVerticalFlip(),\n",
    "    transforms.ColorJitter(brightness=0.2, contrast=0.2, saturation=0.2, hue=0.1),  # Tăng cường màu sắc\n",
    "    transforms.ToTensor(),\n",
    "])\n",
    "# Khởi tạo dataset và dataloader\n",
    "dataset = CustomDataset(fake_dir, real_dir, transform=transform)\n"
   ]
  },
  {
   "cell_type": "markdown",
   "metadata": {},
   "source": [
    "#### 2. Định nghĩa cấu trúc mô hình"
   ]
  },
  {
   "cell_type": "code",
   "execution_count": 2,
   "metadata": {},
   "outputs": [],
   "source": [
    "import torch\n",
    "import torch.nn as nn\n",
    "import torch.nn.functional as F\n",
    "class CNNModel(nn.Module):\n",
    "    def __init__(self):\n",
    "        super(CNNModel, self).__init__()\n",
    "        self.conv1 = nn.Conv2d(3, 32, kernel_size=3, padding=1)\n",
    "        self.conv2 = nn.Conv2d(32, 64, kernel_size=3, padding=1)\n",
    "        self.conv3 = nn.Conv2d(64, 128, kernel_size=3, padding=1)\n",
    "        self.conv4 = nn.Conv2d(128, 256, kernel_size=3, padding=1)\n",
    "        self.conv5 = nn.Conv2d(256, 256, kernel_size=3, padding=1)\n",
    "        self.conv6 = nn.Conv2d(256, 512, kernel_size=3, padding=1)\n",
    "        self.pool = nn.MaxPool2d(kernel_size=2, stride=2)\n",
    "        self.flatten = nn.Flatten()\n",
    "        self.fc1 = nn.Linear(512 * 4 * 4, 512)  \n",
    "        self.fc2 = nn.Linear(512, 2)  \n",
    "\n",
    "    def forward(self, x):\n",
    "        x = self.pool(F.relu(self.conv1(x)))\n",
    "        x = self.pool(F.relu(self.conv2(x)))\n",
    "        x = self.pool(F.relu(self.conv3(x)))\n",
    "        x = self.pool(F.relu(self.conv4(x)))\n",
    "        x = self.pool(F.relu(self.conv5(x)))\n",
    "        x = self.pool(F.relu(self.conv6(x)))\n",
    "        x = self.flatten(x)\n",
    "        x = F.relu(self.fc1(x))\n",
    "        x = self.fc2(x)\n",
    "        return x"
   ]
  },
  {
   "cell_type": "markdown",
   "metadata": {},
   "source": [
    "#### 3. Chia tập dữ liệu"
   ]
  },
  {
   "cell_type": "code",
   "execution_count": 3,
   "metadata": {},
   "outputs": [
    {
     "name": "stdout",
     "output_type": "stream",
     "text": [
      "Train size: 2331\n",
      "Validation size: 499\n",
      "Test size: 500\n"
     ]
    }
   ],
   "source": [
    "total_size = len(dataset)\n",
    "train_size = int(0.7 * total_size)\n",
    "val_size = int(0.15 * total_size)\n",
    "test_size = total_size - train_size - val_size\n",
    "\n",
    "train_dataset, val_dataset, test_dataset = random_split(dataset, [train_size, val_size, test_size])\n",
    "\n",
    "train_loader = DataLoader(train_dataset, batch_size=32, shuffle=True)\n",
    "val_loader = DataLoader(val_dataset, batch_size=32, shuffle=True)\n",
    "test_loader = DataLoader(test_dataset, batch_size=32, shuffle=False)\n",
    "\n",
    "print(f\"Train size: {len(train_dataset)}\")\n",
    "print(f\"Validation size: {len(val_dataset)}\")\n",
    "print(f\"Test size: {len(test_dataset)}\")"
   ]
  },
  {
   "cell_type": "markdown",
   "metadata": {},
   "source": [
    "#### 4. Lấy ảnh và nhãn tương ứng từ tập huấn luyện và tập kiểm tra"
   ]
  },
  {
   "cell_type": "code",
   "execution_count": 4,
   "metadata": {},
   "outputs": [],
   "source": [
    "images = []\n",
    "labels = []\n",
    "\n",
    "for i in range(len(test_dataset)):\n",
    "    image, label = test_dataset[i]\n",
    "    images.append(image)\n",
    "    labels.append(label)\n",
    "images_tensor = torch.stack(images)\n",
    "labels_tensor = torch.tensor(labels)"
   ]
  },
  {
   "cell_type": "code",
   "execution_count": 5,
   "metadata": {},
   "outputs": [],
   "source": [
    "imagesTrain = []\n",
    "labelsTrain = []\n",
    "\n",
    "for i in range(len(train_dataset)//2+1):\n",
    "    image, label = train_dataset[i]\n",
    "    imagesTrain.append(image)\n",
    "    labelsTrain.append(label)\n",
    "images_tensorTrain = torch.stack(imagesTrain)\n",
    "labels_tensorTrain = torch.tensor(labelsTrain)"
   ]
  },
  {
   "cell_type": "code",
   "execution_count": 6,
   "metadata": {},
   "outputs": [
    {
     "data": {
      "text/plain": [
       "tensor([1, 1, 1,  ..., 1, 1, 0])"
      ]
     },
     "execution_count": 6,
     "metadata": {},
     "output_type": "execute_result"
    }
   ],
   "source": [
    "labels_tensorTrain"
   ]
  },
  {
   "cell_type": "markdown",
   "metadata": {},
   "source": [
    "#### 5. Thực hiện tấn công suy luận thành viên "
   ]
  },
  {
   "cell_type": "code",
   "execution_count": 7,
   "metadata": {},
   "outputs": [
    {
     "name": "stdout",
     "output_type": "stream",
     "text": [
      "Members Accuracy: 0.7590\n",
      "Non Members Accuracy 0.2440\n",
      "Attack Accuracy 0.6044\n"
     ]
    }
   ],
   "source": [
    "import PIL.Image\n",
    "from art.estimators.classification import  PyTorchClassifier\n",
    "import numpy as np\n",
    "model = CNNModel()\n",
    "model.load_state_dict(torch.load('./model/FakeAndRealState.pth'))\n",
    "model.eval()\n",
    "criterion = nn.CrossEntropyLoss()\n",
    "optimizer = torch.optim.Adam(model.parameters(), lr=0.0001,weight_decay=1e-5)\n",
    "Classifier= PyTorchClassifier(model,criterion,[3,256,256],2)\n",
    "from art.attacks.inference.membership_inference import MembershipInferenceBlackBoxRuleBased\n",
    "attack = MembershipInferenceBlackBoxRuleBased(Classifier)\n",
    "inferred_train = attack.infer(images_tensorTrain, labels_tensorTrain)\n",
    "inferred_test = attack.infer(images_tensor, labels_tensor)\n",
    "train_acc = np.sum(inferred_train) / len(inferred_train)\n",
    "test_acc = 1 - (np.sum(inferred_test) / len(inferred_test))\n",
    "acc = (train_acc * len(inferred_train) + test_acc * len(inferred_test)) / (len(inferred_train) + len(inferred_test))\n",
    "print(f\"Members Accuracy: {train_acc:.4f}\")\n",
    "print(f\"Non Members Accuracy {test_acc:.4f}\")\n",
    "print(f\"Attack Accuracy {acc:.4f}\")\n",
    "\n",
    "\n"
   ]
  },
  {
   "cell_type": "markdown",
   "metadata": {},
   "source": [
    "#### 6. Thử nghiệm tấn công trên mục tiêu đơn lẻ"
   ]
  },
  {
   "cell_type": "code",
   "execution_count": 8,
   "metadata": {},
   "outputs": [
    {
     "name": "stdout",
     "output_type": "stream",
     "text": [
      "thành viên training\n"
     ]
    }
   ],
   "source": [
    "import PIL\n",
    "import cv2\n",
    "image=PIL.Image.open('./data/testattack.jpg')\n",
    "image = np.array(image) \n",
    "image = cv2.resize(image, (256, 256))\n",
    "image = image.astype(np.float32) / 255.0\n",
    "image = image.transpose(2, 0, 1) \n",
    "image = torch.tensor(image, dtype=torch.float32).unsqueeze(0)  \n",
    "label=np.array([0])\n",
    "label=torch.tensor(label)\n",
    "inferred_t=attack.infer(image,label)\n",
    "print('thành viên training' if inferred_t == 1 else 'Không phải thành viên')"
   ]
  }
 ],
 "metadata": {
  "kernelspec": {
   "display_name": "Python 3",
   "language": "python",
   "name": "python3"
  },
  "language_info": {
   "codemirror_mode": {
    "name": "ipython",
    "version": 3
   },
   "file_extension": ".py",
   "mimetype": "text/x-python",
   "name": "python",
   "nbconvert_exporter": "python",
   "pygments_lexer": "ipython3",
   "version": "3.11.2"
  }
 },
 "nbformat": 4,
 "nbformat_minor": 2
}
